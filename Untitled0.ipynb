{
  "nbformat": 4,
  "nbformat_minor": 0,
  "metadata": {
    "colab": {
      "provenance": [],
      "gpuType": "T4"
    },
    "kernelspec": {
      "name": "python3",
      "display_name": "Python 3"
    },
    "language_info": {
      "name": "python"
    },
    "accelerator": "GPU"
  },
  "cells": [
    {
      "cell_type": "code",
      "source": [
        "# Importamos todas las librerias de nuestro proyecto\n",
        "import cv2\n",
        "import random\n",
        "import os as os\n",
        "import numpy as np\n",
        "import seaborn as sns\n",
        "from tqdm import tqdm\n",
        "from PIL import Image\n",
        "import tensorflow as tf\n",
        "import pandas as pd\n",
        "import plotly.express as px\n",
        "import matplotlib.pyplot as plt\n",
        "from sklearn.metrics import confusion_matrix\n",
        "from tensorflow.keras.optimizers import Adam\n",
        "from sklearn.preprocessing import LabelEncoder\n",
        "from tensorflow.keras.models import Sequential\n",
        "from tensorflow.keras.utils import to_categorical\n",
        "from tensorflow.keras.callbacks import EarlyStopping\n",
        "from sklearn.model_selection import train_test_split\n",
        "from tensorflow.keras.preprocessing.image import load_img\n",
        "from tensorflow.keras.preprocessing.image import img_to_array\n",
        "from tensorflow.keras.layers import Conv2D, MaxPooling2D, Flatten, Dense, Dropout\n",
        "from tensorflow.keras.preprocessing.image import ImageDataGenerator\n"
      ],
      "metadata": {
        "id": "oXOd7Zl_t5t_"
      },
      "execution_count": 1,
      "outputs": []
    },
    {
      "cell_type": "code",
      "execution_count": 2,
      "metadata": {
        "colab": {
          "base_uri": "https://localhost:8080/"
        },
        "id": "PoYoU8E7t0Fi",
        "outputId": "a9c968d9-bec9-4fb1-9bd1-2f9bc44feb1e"
      },
      "outputs": [
        {
          "output_type": "stream",
          "name": "stdout",
          "text": [
            "Drive already mounted at /content/drive; to attempt to forcibly remount, call drive.mount(\"/content/drive\", force_remount=True).\n"
          ]
        }
      ],
      "source": [
        "# Si usamos google colab\n",
        "from google.colab import drive\n",
        "\n",
        "drive.mount(\"/content/drive\")\n",
        "seed = 2027\n",
        "np.random.seed(seed)\n",
        "tf.random.set_seed(seed)\n",
        "random.seed(seed)"
      ]
    },
    {
      "cell_type": "code",
      "source": [
        "def load_and_preprocess_images(base_dir):\n",
        "    image_paths = []\n",
        "    classes = []\n",
        "\n",
        "    # Recorrer cada clase en el directorio base\n",
        "    for cls in os.listdir(base_dir):\n",
        "        class_path = os.path.join(base_dir, cls)\n",
        "\n",
        "        # Verificar si es un directorio\n",
        "        if os.path.isdir(class_path):\n",
        "            # Recorrer cada archivo en el directorio de la clase\n",
        "            for file_name in os.listdir(class_path):\n",
        "                # Filtrar archivos con extensión 'jpg'\n",
        "                if file_name.split('.')[-1] == 'jpg':\n",
        "                    image_paths.append(os.path.join(class_path, file_name))\n",
        "                    classes.append(cls)\n",
        "\n",
        "    # Codificación de etiquetas\n",
        "    le = LabelEncoder()\n",
        "    y = le.fit_transform(classes)\n",
        "    y = np.array(y)\n",
        "\n",
        "    inputs = []\n",
        "\n",
        "    # Cargar imágenes y convertirlas a arrays\n",
        "    for i in tqdm(image_paths):\n",
        "        image = load_img(i)\n",
        "        img_array = img_to_array(image)\n",
        "        inputs.append(img_array)\n",
        "\n",
        "    X = np.array(inputs)\n",
        "\n",
        "    return X, y\n"
      ],
      "metadata": {
        "id": "RMSVCgF8t2Fr"
      },
      "execution_count": 3,
      "outputs": []
    },
    {
      "cell_type": "code",
      "source": [
        "# direccion de google drive (Cambiar en ejecucion en local)\n",
        "base_dir = \"/content/drive/MyDrive/Colab Notebooks/\"\n",
        "\n",
        "X, y = load_and_preprocess_images(base_dir)\n",
        "\n",
        "# Dividir los datos en conjuntos de entrenamiento y prueba\n",
        "num_classes = len(np.unique(y))\n",
        "train_test_split(X, y, test_size = 0.2)\n",
        "\n",
        "# Dividir los datos en conjuntos de entrenamiento y prueba\n",
        "X_train, X_test, y_train, y_test = train_test_split(X, y, test_size=0.2, random_state=seed)\n",
        "\n",
        "# Dividir el conjunto de entrenamiento en entrenamiento y validación\n",
        "X_train, X_val, y_train, y_val = train_test_split(X_train, y_train, test_size=0.2, random_state=seed)\n",
        "\n",
        "# Convertir etiquetas a su forma one-hot\n",
        "y_train_one_hot = to_categorical(y_train, num_classes=num_classes)\n",
        "y_val_one_hot = to_categorical(y_val, num_classes=num_classes)\n",
        "y_test_one_hot = to_categorical(y_test, num_classes=num_classes)\n",
        "\n",
        "# Preprocesar los datos (escalarlos entre 0 y 1 y convertir las etiquetas a one-hot encoding)\n",
        "x_train = X_train.astype('float32')\n",
        "x_val = X_val.astype('float32')\n",
        "x_test = X_test.astype('float32')\n",
        "\n",
        "# Imprimir dimensiones de los conjuntos de entrenamiento y prueba\n",
        "print(f\"Train data shape: {x_train.shape}, y_train shape: {y_train_one_hot.shape}\")\n",
        "print(f\"Test data shape: {x_test.shape}, y_test shape: {y_test_one_hot.shape}\")"
      ],
      "metadata": {
        "colab": {
          "base_uri": "https://localhost:8080/"
        },
        "id": "dBfsIrD8t2hP",
        "outputId": "461feb39-51fb-40f9-9dc7-1f4bc6845f36"
      },
      "execution_count": 4,
      "outputs": [
        {
          "output_type": "stream",
          "name": "stderr",
          "text": [
            "100%|██████████| 259/259 [01:28<00:00,  2.93it/s]\n"
          ]
        },
        {
          "output_type": "stream",
          "name": "stdout",
          "text": [
            "Train data shape: (165, 512, 512, 3), y_train shape: (165, 3)\n",
            "Test data shape: (52, 512, 512, 3), y_test shape: (52, 3)\n"
          ]
        }
      ]
    },
    {
      "cell_type": "code",
      "source": [
        "width_shape = height_shape = 512\n",
        "num_class = 3\n",
        "epocas = 20\n",
        "batch_size = 32"
      ],
      "metadata": {
        "id": "Ln3ict1Qt29W"
      },
      "execution_count": 5,
      "outputs": []
    },
    {
      "cell_type": "code",
      "source": [
        "from tensorflow.keras.preprocessing.image import ImageDataGenerator\n",
        "from tensorflow.keras.applications.vgg16 import preprocess_input\n",
        "# Define the base directory\n",
        "base_dir = \"/content/drive/MyDrive/Colab Notebooks/\"\n",
        "\n",
        "# Get the class folder names\n",
        "class_folder_names = os.listdir(base_dir)\n",
        "\n",
        "# Create a DataFrame with image paths and corresponding labels\n",
        "df = pd.DataFrame({\n",
        "    'filename': [os.path.join(base_dir, cls, file) for cls in class_folder_names for file in os.listdir(os.path.join(base_dir, cls))],\n",
        "    'class': [cls for cls in class_folder_names for _ in os.listdir(os.path.join(base_dir, cls))]\n",
        "})\n",
        "\n",
        "\n",
        "# Iterate through the DataFrame and remove rows with missing files\n",
        "indices_to_remove = []\n",
        "for index, row in df.iterrows():\n",
        "    if not os.path.exists(row['filename']):\n",
        "        indices_to_remove.append(index)\n",
        "\n",
        "# Remove rows with missing files\n",
        "df = df.drop(indices_to_remove, axis=0).reset_index(drop=True)\n",
        "\n",
        "# Shuffle the DataFrame\n",
        "df = df.sample(frac=1, random_state=seed).reset_index(drop=True)\n",
        "\n",
        "# Split the DataFrame into training and validation sets\n",
        "train_df, val_df = train_test_split(df, test_size=0.2, random_state=seed)\n",
        "\n",
        "# Data augmentation for training images\n",
        "train_datagen = ImageDataGenerator(\n",
        "    rotation_range=10,\n",
        "    zoom_range=0.2,\n",
        "    width_shift_range=0.1,\n",
        "    height_shift_range=0.1,\n",
        "    horizontal_flip=True,\n",
        "    vertical_flip=False,\n",
        "    preprocessing_function=preprocess_input)\n",
        "\n",
        "# Data augmentation for validation images\n",
        "validation_datagen = ImageDataGenerator(\n",
        "    rotation_range=30,\n",
        "    zoom_range=0.1,\n",
        "    width_shift_range=0.2,\n",
        "    height_shift_range=0.1,\n",
        "    horizontal_flip=True,\n",
        "    vertical_flip=False,\n",
        "    preprocessing_function=preprocess_input)\n",
        "\n",
        "# Train data generator\n",
        "train_generator = train_datagen.flow_from_dataframe(\n",
        "    train_df,\n",
        "    x_col='filename',\n",
        "    y_col='class',\n",
        "    target_size=(width_shape, height_shape),\n",
        "    batch_size=batch_size,\n",
        "    class_mode='categorical')\n",
        "\n",
        "# Validation data generator\n",
        "validation_generator = validation_datagen.flow_from_dataframe(\n",
        "    val_df,\n",
        "    x_col='filename',\n",
        "    y_col='class',\n",
        "    target_size=(width_shape, height_shape),\n",
        "    batch_size=batch_size,\n",
        "    class_mode='categorical')\n"
      ],
      "metadata": {
        "colab": {
          "base_uri": "https://localhost:8080/"
        },
        "id": "3JpvBxhst3UU",
        "outputId": "37a866ca-bcd4-4432-f2ea-db924058f419"
      },
      "execution_count": 16,
      "outputs": [
        {
          "output_type": "stream",
          "name": "stdout",
          "text": [
            "Found 207 validated image filenames belonging to 3 classes.\n",
            "Found 52 validated image filenames belonging to 3 classes.\n"
          ]
        }
      ]
    },
    {
      "cell_type": "code",
      "source": [
        "import torch\n",
        "from tensorflow.keras.applications.vgg16 import VGG16, preprocess_input\n",
        "from tensorflow.keras.regularizers import l1, l2\n",
        "from tensorflow.keras import regularizers\n",
        "from tensorflow.keras.models import Sequential\n",
        "from tensorflow.keras.layers import Conv2D, MaxPooling2D, Flatten, Dense, Dropout\n",
        "from tensorflow.keras.optimizers import Adam\n",
        "\n",
        "device = \"cuda\" if torch.cuda.is_available() else \"cpu\"\n",
        "\n",
        "# Load the pre-trained VGG16 model without the top (fully connected) layers\n",
        "base_model = VGG16(weights='imagenet', include_top=False, input_shape=(width_shape, height_shape, 3))\n",
        "\n",
        "# Freeze the layers of the pre-trained model\n",
        "for layer in base_model.layers:\n",
        "    layer.trainable = False\n",
        "\n",
        "# Add your custom convolutional layers on top of the VGG16 base\n",
        "model = Sequential()\n",
        "model.add(base_model)\n",
        "model.add(Flatten())\n",
        "model.add(Dense(16, activation='relu', kernel_regularizer=l1(0.0001)))\n",
        "model.add(Dropout(0.1))\n",
        "model.add(Dense(16, activation='relu', kernel_regularizer=l2(0.0001)))\n",
        "model.add(Dropout(0.2))\n",
        "# Add the output layer\n",
        "model.add(Dense(num_classes, activation='softmax'))\n",
        "\n",
        "# Compile the model\n",
        "model.compile(optimizer=Adam(learning_rate=0.0001), loss='categorical_crossentropy', metrics=['accuracy'])\n",
        "\n",
        "model.summary()\n"
      ],
      "metadata": {
        "colab": {
          "base_uri": "https://localhost:8080/"
        },
        "id": "YOtEWHpot3tg",
        "outputId": "9a57c8e4-7197-453d-ee75-b5bc2cc4c166"
      },
      "execution_count": 39,
      "outputs": [
        {
          "output_type": "stream",
          "name": "stdout",
          "text": [
            "Model: \"sequential_8\"\n",
            "_________________________________________________________________\n",
            " Layer (type)                Output Shape              Param #   \n",
            "=================================================================\n",
            " vgg16 (Functional)          (None, 16, 16, 512)       14714688  \n",
            "                                                                 \n",
            " flatten_8 (Flatten)         (None, 131072)            0         \n",
            "                                                                 \n",
            " dense_24 (Dense)            (None, 16)                2097168   \n",
            "                                                                 \n",
            " dropout_16 (Dropout)        (None, 16)                0         \n",
            "                                                                 \n",
            " dense_25 (Dense)            (None, 16)                272       \n",
            "                                                                 \n",
            " dropout_17 (Dropout)        (None, 16)                0         \n",
            "                                                                 \n",
            " dense_26 (Dense)            (None, 3)                 51        \n",
            "                                                                 \n",
            "=================================================================\n",
            "Total params: 16812179 (64.13 MB)\n",
            "Trainable params: 2097491 (8.00 MB)\n",
            "Non-trainable params: 14714688 (56.13 MB)\n",
            "_________________________________________________________________\n"
          ]
        }
      ]
    },
    {
      "cell_type": "code",
      "source": [
        "# Calculate steps per epoch and validation steps\n",
        "steps_per_epoch = len(train_generator)\n",
        "validation_steps = len(validation_generator)\n",
        "\n",
        "# Define EarlyStopping for the first phase\n",
        "early_stopping_phase1 = EarlyStopping(monitor='val_loss', patience=3, restore_best_weights=True)\n",
        "\n",
        "# Train the model using the generators for the first phase\n",
        "history_phase1 = model.fit(\n",
        "    train_generator,\n",
        "    steps_per_epoch=steps_per_epoch,\n",
        "    epochs=12,\n",
        "    validation_data=validation_generator,\n",
        "    validation_steps=1,\n",
        "    callbacks=[early_stopping_phase1])"
      ],
      "metadata": {
        "colab": {
          "base_uri": "https://localhost:8080/"
        },
        "id": "QzV7QgAzt4EN",
        "outputId": "21f52853-b4f0-4f51-807c-d832045a8c6c"
      },
      "execution_count": 40,
      "outputs": [
        {
          "output_type": "stream",
          "name": "stdout",
          "text": [
            "Epoch 1/12\n",
            "7/7 [==============================] - 23s 3s/step - loss: 3.1189 - accuracy: 0.5217 - val_loss: 1.3226 - val_accuracy: 0.7188\n",
            "Epoch 2/12\n",
            "7/7 [==============================] - 18s 3s/step - loss: 1.4772 - accuracy: 0.7729 - val_loss: 1.5011 - val_accuracy: 0.7500\n",
            "Epoch 3/12\n",
            "7/7 [==============================] - 21s 3s/step - loss: 1.2510 - accuracy: 0.8019 - val_loss: 1.2461 - val_accuracy: 0.8125\n",
            "Epoch 4/12\n",
            "7/7 [==============================] - 18s 3s/step - loss: 1.0483 - accuracy: 0.8647 - val_loss: 1.5993 - val_accuracy: 0.7812\n",
            "Epoch 5/12\n",
            "7/7 [==============================] - 20s 3s/step - loss: 0.9784 - accuracy: 0.8986 - val_loss: 1.6960 - val_accuracy: 0.7812\n",
            "Epoch 6/12\n",
            "7/7 [==============================] - 20s 3s/step - loss: 0.9598 - accuracy: 0.8647 - val_loss: 1.0827 - val_accuracy: 0.7812\n",
            "Epoch 7/12\n",
            "7/7 [==============================] - 18s 3s/step - loss: 0.9013 - accuracy: 0.8551 - val_loss: 1.1139 - val_accuracy: 0.8125\n",
            "Epoch 8/12\n",
            "7/7 [==============================] - 20s 3s/step - loss: 0.8804 - accuracy: 0.8454 - val_loss: 0.7594 - val_accuracy: 0.8750\n",
            "Epoch 9/12\n",
            "7/7 [==============================] - 18s 3s/step - loss: 1.0618 - accuracy: 0.8696 - val_loss: 0.8423 - val_accuracy: 0.8438\n",
            "Epoch 10/12\n",
            "7/7 [==============================] - 19s 3s/step - loss: 0.8576 - accuracy: 0.8937 - val_loss: 0.7150 - val_accuracy: 0.9062\n",
            "Epoch 11/12\n",
            "7/7 [==============================] - 21s 3s/step - loss: 1.0391 - accuracy: 0.8647 - val_loss: 1.0546 - val_accuracy: 0.8438\n",
            "Epoch 12/12\n",
            "7/7 [==============================] - 18s 3s/step - loss: 0.7602 - accuracy: 0.8744 - val_loss: 0.5418 - val_accuracy: 1.0000\n"
          ]
        }
      ]
    },
    {
      "cell_type": "code",
      "source": [
        "# Unfreeze the layers of the pretrained base\n",
        "for layer in base_model.layers:\n",
        "    layer.trainable = True\n",
        "\n",
        "# Compile the model with a smaller learning rate for the second phase\n",
        "model.compile(optimizer=Adam(learning_rate=0.00001), loss='categorical_crossentropy', metrics=['accuracy'])\n",
        "model.summary()"
      ],
      "metadata": {
        "colab": {
          "base_uri": "https://localhost:8080/"
        },
        "id": "kjJ5FhGAuQku",
        "outputId": "f50e2a84-823f-4caf-c4c2-9c5309b8ec67"
      },
      "execution_count": 41,
      "outputs": [
        {
          "output_type": "stream",
          "name": "stdout",
          "text": [
            "Model: \"sequential_8\"\n",
            "_________________________________________________________________\n",
            " Layer (type)                Output Shape              Param #   \n",
            "=================================================================\n",
            " vgg16 (Functional)          (None, 16, 16, 512)       14714688  \n",
            "                                                                 \n",
            " flatten_8 (Flatten)         (None, 131072)            0         \n",
            "                                                                 \n",
            " dense_24 (Dense)            (None, 16)                2097168   \n",
            "                                                                 \n",
            " dropout_16 (Dropout)        (None, 16)                0         \n",
            "                                                                 \n",
            " dense_25 (Dense)            (None, 16)                272       \n",
            "                                                                 \n",
            " dropout_17 (Dropout)        (None, 16)                0         \n",
            "                                                                 \n",
            " dense_26 (Dense)            (None, 3)                 51        \n",
            "                                                                 \n",
            "=================================================================\n",
            "Total params: 16812179 (64.13 MB)\n",
            "Trainable params: 16812179 (64.13 MB)\n",
            "Non-trainable params: 0 (0.00 Byte)\n",
            "_________________________________________________________________\n"
          ]
        }
      ]
    },
    {
      "cell_type": "code",
      "source": [
        "# Validation data generator\n",
        "val_generator = validation_datagen.flow_from_dataframe(\n",
        "    val_df,\n",
        "    x_col='filename',\n",
        "    y_col='class',\n",
        "    target_size=(width_shape, height_shape),\n",
        "    batch_size=batch_size,\n",
        "    class_mode='categorical',\n",
        "    shuffle=False)\n",
        "\n",
        "\n",
        "# Define EarlyStopping for the second phase\n",
        "early_stopping_phase2 = EarlyStopping(monitor='val_loss', patience=3, restore_best_weights=True)\n",
        "\n",
        "# Train the model for the second phase (unfrozen pretrained base)\n",
        "history_phase2 = model.fit(\n",
        "    train_generator,\n",
        "    epochs=4,\n",
        "    validation_data=val_generator,\n",
        "    callbacks=[early_stopping_phase2])"
      ],
      "metadata": {
        "colab": {
          "base_uri": "https://localhost:8080/"
        },
        "id": "Y68jW-tsuRYa",
        "outputId": "65fa1863-f0dd-4d83-dbcf-a1865305217d"
      },
      "execution_count": 42,
      "outputs": [
        {
          "output_type": "stream",
          "name": "stdout",
          "text": [
            "Found 52 validated image filenames belonging to 3 classes.\n",
            "Epoch 1/4\n",
            "7/7 [==============================] - 37s 4s/step - loss: 0.7229 - accuracy: 0.8889 - val_loss: 1.3202 - val_accuracy: 0.8462\n",
            "Epoch 2/4\n",
            "7/7 [==============================] - 25s 3s/step - loss: 0.8006 - accuracy: 0.8502 - val_loss: 0.9279 - val_accuracy: 0.7885\n",
            "Epoch 3/4\n",
            "7/7 [==============================] - 26s 3s/step - loss: 0.8111 - accuracy: 0.8696 - val_loss: 0.7971 - val_accuracy: 0.8269\n",
            "Epoch 4/4\n",
            "7/7 [==============================] - 27s 4s/step - loss: 0.7760 - accuracy: 0.8599 - val_loss: 0.8638 - val_accuracy: 0.7885\n"
          ]
        }
      ]
    },
    {
      "cell_type": "code",
      "source": [
        "# Asegurémonos de que la concatenación de los historiales se realiza correctamente\n",
        "total_history = {\n",
        "    'loss': history_phase1.history['loss'] + history_phase2.history['loss'],\n",
        "    'accuracy': history_phase1.history['accuracy'] + history_phase2.history['accuracy'],\n",
        "    'val_loss': history_phase1.history['val_loss'] + history_phase2.history['val_loss'],\n",
        "    'val_accuracy': history_phase1.history['val_accuracy'] + history_phase2.history['val_accuracy']\n",
        "}\n",
        "\n",
        "# Ajustemos el índice de los epochs en el segundo historial\n",
        "epochs_phase2 = list(range(len(history_phase1.history['val_accuracy']) + 1, len(total_history['val_accuracy']) + 1))\n",
        "history_phase2_adjusted = {\n",
        "    'loss': history_phase2.history['loss'],\n",
        "    'accuracy': history_phase2.history['accuracy'],\n",
        "    'val_loss': history_phase2.history['val_loss'],\n",
        "    'val_accuracy': history_phase2.history['val_accuracy']\n",
        "}\n",
        "\n",
        "# Concatenemos los historiales ajustados\n",
        "total_history_adjusted = {\n",
        "    'loss': total_history['loss'][:len(history_phase1.history['val_accuracy'])] + history_phase2_adjusted['loss'],\n",
        "    'accuracy': total_history['accuracy'][:len(history_phase1.history['val_accuracy'])] + history_phase2_adjusted['accuracy'],\n",
        "    'val_loss': total_history['val_loss'][:len(history_phase1.history['val_accuracy'])] + history_phase2_adjusted['val_loss'],\n",
        "    'val_accuracy': total_history['val_accuracy'][:len(history_phase1.history['val_accuracy'])] + history_phase2_adjusted['val_accuracy']\n",
        "}\n",
        "\n",
        "# Plot the training history\n",
        "epochs_total = list(range(1, len(total_history_adjusted['val_accuracy']) + 1))\n",
        "plt.plot(epochs_total, total_history_adjusted['val_accuracy'], label=\"val_accuracy\")\n",
        "plt.plot(epochs_total, total_history_adjusted['accuracy'], label=\"accuracy\")\n",
        "plt.legend(loc=\"lower right\")\n",
        "plt.show()\n"
      ],
      "metadata": {
        "colab": {
          "base_uri": "https://localhost:8080/",
          "height": 430
        },
        "id": "Cpp1wMrluRq5",
        "outputId": "a92e357d-3e82-4d01-ee11-e3c819f68c77"
      },
      "execution_count": 43,
      "outputs": [
        {
          "output_type": "display_data",
          "data": {
            "text/plain": [
              "<Figure size 640x480 with 1 Axes>"
            ],
            "image/png": "[encoded data removed]"
          },
          "metadata": {}
        }
      ]
    },
    {
      "cell_type": "code",
      "source": [
        "# Plot the training history for loss\n",
        "epochs_total = list(range(1, len(total_history_adjusted['val_loss']) + 1))\n",
        "plt.plot(epochs_total, total_history_adjusted['loss'], label=\"loss\")\n",
        "plt.plot(epochs_total, total_history_adjusted['val_loss'], label=\"val_loss\")\n",
        "plt.legend(loc=\"upper right\")\n",
        "plt.show()"
      ],
      "metadata": {
        "colab": {
          "base_uri": "https://localhost:8080/",
          "height": 430
        },
        "id": "kkXYA0oouSBF",
        "outputId": "3a388edd-330d-407e-a9ec-08e69fbe2fe8"
      },
      "execution_count": 44,
      "outputs": [
        {
          "output_type": "display_data",
          "data": {
            "text/plain": [
              "<Figure size 640x480 with 1 Axes>"
            ],
            "image/png": "[encoded data removed]"
          },
          "metadata": {}
        }
      ]
    },
    {
      "cell_type": "code",
      "source": [
        "from sklearn.metrics import confusion_matrix, classification_report\n",
        "from mlxtend.plotting import plot_confusion_matrix\n",
        "import numpy as np\n",
        "import matplotlib.pyplot as plt\n",
        "\n",
        "test_datagen = ImageDataGenerator()\n",
        "\n",
        "prediction_datagen = ImageDataGenerator(\n",
        "    preprocessing_function=preprocess_input)\n",
        "\n",
        "prediction_generator = prediction_datagen.flow_from_dataframe(\n",
        "    val_df,\n",
        "    x_col='filename',\n",
        "    y_col='class',\n",
        "    target_size=(width_shape, height_shape),\n",
        "    batch_size=batch_size,\n",
        "    class_mode='categorical',\n",
        "    shuffle=False)\n",
        "\n",
        "# Use the new generator for prediction\n",
        "predictions = model.predict_generator(generator=prediction_generator, steps=len(prediction_generator))\n",
        "\n",
        "y_pred = np.argmax(predictions, axis=1)\n",
        "y_real = prediction_generator.classes\n",
        "\n",
        "class_folder_names = ['aneurysm', 'cancer', 'tumor']  # Replace with your actual class names\n",
        "\n",
        "matc = confusion_matrix(y_real, y_pred)\n",
        "\n",
        "plot_confusion_matrix(conf_mat=matc, figsize=(3,3), class_names=class_folder_names, show_normed=False)\n",
        "plt.tight_layout()\n",
        "\n",
        "print(classification_report(y_real, y_pred, digits=4))\n"
      ],
      "metadata": {
        "colab": {
          "base_uri": "https://localhost:8080/",
          "height": 543
        },
        "id": "6ZEBxOHQuYSC",
        "outputId": "f5095fbe-1b4c-4023-ea5b-ed8bfdb004bd"
      },
      "execution_count": 49,
      "outputs": [
        {
          "output_type": "stream",
          "name": "stdout",
          "text": [
            "Found 52 validated image filenames belonging to 3 classes.\n"
          ]
        },
        {
          "output_type": "stream",
          "name": "stderr",
          "text": [
            "<ipython-input-49-d9a7b657ffda>:21: UserWarning: `Model.predict_generator` is deprecated and will be removed in a future version. Please use `Model.predict`, which supports generators.\n",
            "  predictions = model.predict_generator(generator=prediction_generator, steps=len(prediction_generator))\n"
          ]
        },
        {
          "output_type": "stream",
          "name": "stdout",
          "text": [
            "              precision    recall  f1-score   support\n",
            "\n",
            "           0     1.0000    0.9500    0.9744        20\n",
            "           1     1.0000    1.0000    1.0000        18\n",
            "           2     0.9333    1.0000    0.9655        14\n",
            "\n",
            "    accuracy                         0.9808        52\n",
            "   macro avg     0.9778    0.9833    0.9800        52\n",
            "weighted avg     0.9821    0.9808    0.9809        52\n",
            "\n"
          ]
        },
        {
          "output_type": "display_data",
          "data": {
            "text/plain": [
              "<Figure size 300x300 with 1 Axes>"
            ],
            "image/png": "[encoded data removed]"
          },
          "metadata": {}
        }
      ]
    },
    {
      "cell_type": "code",
      "source": [
        "from google.colab import drive\n",
        "drive.mount('/content/drive')"
      ],
      "metadata": {
        "id": "umL5jkcpvN3T"
      },
      "execution_count": null,
      "outputs": []
    }
  ]
}